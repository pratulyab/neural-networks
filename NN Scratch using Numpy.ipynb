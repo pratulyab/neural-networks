{
 "cells": [
  {
   "cell_type": "code",
   "execution_count": 2,
   "metadata": {},
   "outputs": [],
   "source": [
    "import numpy as np\n",
    "from matplotlib import pyplot as plt"
   ]
  },
  {
   "cell_type": "code",
   "execution_count": 230,
   "metadata": {},
   "outputs": [],
   "source": [
    "class NeuralNetwork:\n",
    "    \n",
    "    def __init__(self, X, y):\n",
    "        self.X = X\n",
    "        self.y = y\n",
    "        self.N = X.shape[0]\n",
    "        self.H1_SIZE = 256\n",
    "        self.H2_SIZE = 64\n",
    "        self.INPUT_DIM = X.shape[1]\n",
    "        self.OUTPUT_DIM = len(np.unique(y))\n",
    "        self.losses = list()\n",
    "        \n",
    "        self.W1 = np.random.randn(self.INPUT_DIM, self.H1_SIZE)\n",
    "        self.b1 = np.zeros((1, self.H1_SIZE))\n",
    "        \n",
    "        self.W2 = np.random.randn(self.H1_SIZE, self.H2_SIZE)\n",
    "        self.b2 = np.zeros((1, self.H2_SIZE))\n",
    "        \n",
    "        self.W3 = np.random.randn(self.H2_SIZE, self.OUTPUT_DIM)\n",
    "        self.b3 = np.zeros((1, self.OUTPUT_DIM))\n",
    "        \n",
    "    \n",
    "    def sigmoid(self, z):\n",
    "        return 1 / (1 + np.exp(-z))\n",
    "    \n",
    "    def sigmoid_derivative(self, z):\n",
    "        s = self.sigmoid(z)\n",
    "        return s * (1 - s)\n",
    "    \n",
    "    def softmax(self, z):\n",
    "        ez = np.exp(z)\n",
    "        return ez / ez.sum(axis=1, keepdims=True)\n",
    "    \n",
    "    def forward(self, X):\n",
    "        Z1 = X.dot(self.W1) + self.b1\n",
    "        A1 = self.sigmoid(Z1)\n",
    "        Z2 = A1.dot(self.W2) + self.b2\n",
    "        A2 = self.sigmoid(Z2)\n",
    "        Z3 = A2.dot(self.W3) + self.b3\n",
    "        yhat = self.softmax(Z3)\n",
    "\n",
    "        self.Z1 = Z1\n",
    "        self.Z2 = Z2\n",
    "        self.Z3 = Z3\n",
    "        \n",
    "        self.activation_outputs = (A1, A2, yhat)\n",
    "        return yhat\n",
    "    \n",
    "    def backward(self, X, y, learning_rate=0.01):\n",
    "        A1, A2, yhat = self.activation_outputs\n",
    "        \n",
    "        delta3 = yhat - y # N,10\n",
    "        dldw3 = A2.T.dot(delta3) # 64,10\n",
    "        dldb3 = delta3.sum(axis=0, keepdims=True) # 1,10\n",
    "        \n",
    "        delta2 = delta3.dot(self.W3.T) * self.sigmoid_derivative(self.Z2) # N,64\n",
    "        dldw2 = A1.T.dot(delta2) # 256,64\n",
    "        dldb2 = delta2.sum(axis=0, keepdims=True) # 1,64\n",
    "        \n",
    "        delta1 = delta2.dot(self.W2.T) * self.sigmoid_derivative(self.Z1) # N,256\n",
    "        dldw1 = X.T.dot(delta1) # 784,256\n",
    "        dldb1 = delta1.sum(axis=0, keepdims=True) # 1,256\n",
    "        \n",
    "        # Update Rule\n",
    "        self.W3 -= (dldw3 * learning_rate)\n",
    "        self.b3 -= (dldb3 * learning_rate)\n",
    "        \n",
    "        self.W2 -= (dldw2 * learning_rate)\n",
    "        self.b2 -= (dldb2 * learning_rate)\n",
    "        \n",
    "        self.W1 -= (dldw1 * learning_rate)\n",
    "        self.b1 -= (dldb1 * learning_rate)\n",
    "        \n",
    "    \n",
    "    def compute_loss(self, y, yhat):\n",
    "        # Cross Entropy Loss\n",
    "        # Assuming y as One Hot Vectors\n",
    "        log_loss = -np.sum(y * np.log(yhat))\n",
    "        return log_loss\n",
    "    \n",
    "    def predict(self, x):\n",
    "        yhat = self.forward(x)\n",
    "        return np.argmax(yhat, axis=1)        \n",
    "        \n",
    "    def accuracy(self, labels, preds):\n",
    "        return (labels == preds).sum() / labels.shape[0]\n",
    "    \n",
    "    def get_one_hot_vector(self, y):\n",
    "        klasses = np.unique(y)\n",
    "        vec = np.zeros((y.shape[0], len(klasses)))\n",
    "        for i in range(vec.shape[0]):\n",
    "            vec[i, y[i]] = 1\n",
    "#         vec[np.arange(y.shape[0]), y] = 1\n",
    "        return vec\n",
    "    \n",
    "    def train(self, learning_rate=0.01, epochs=100, batch_size=200):\n",
    "        y_one_hot = self.get_one_hot_vector(self.y)\n",
    "\n",
    "        for e in range(epochs):\n",
    "            size = 0\n",
    "            while (size + batch_size) < self.X.shape[0]:\n",
    "                X_batch = self.X[size : size+batch_size]\n",
    "                y_batch = self.y[size : size+batch_size]\n",
    "                y_batch_one_hot = self.get_one_hot_vector(y_batch)\n",
    "                size += batch_size\n",
    "                \n",
    "                _ = self.forward(X_batch)\n",
    "                self.backward(X_batch, y_batch_one_hot)\n",
    "            \n",
    "            yhat = self.forward(self.X)\n",
    "            self.losses.append(self.compute_loss(y_one_hot, yhat))\n",
    "            if e%10 == 0:\n",
    "                print(\"Epoch [{}]  Loss: {}\".format(e, self.losses[-1]))"
   ]
  },
  {
   "cell_type": "code",
   "execution_count": 219,
   "metadata": {},
   "outputs": [],
   "source": [
    "from pandas import read_csv\n",
    "from sklearn.model_selection import train_test_split\n",
    "dataset = read_csv('../datasets/mnist_data/train.csv').values"
   ]
  },
  {
   "cell_type": "code",
   "execution_count": 237,
   "metadata": {},
   "outputs": [
    {
     "name": "stdout",
     "output_type": "stream",
     "text": [
      "(33600, 784) (8400, 784) (33600,) (8400,)\n"
     ]
    }
   ],
   "source": [
    "X_train, X_test, y_train, y_test = train_test_split(dataset[:, 1:], dataset[:, 0], test_size=0.2)\n",
    "X_train, X_test = X_train/255, X_test/255\n",
    "\n",
    "print(X_train.shape, X_test.shape, y_train.shape, y_test.shape)"
   ]
  },
  {
   "cell_type": "code",
   "execution_count": 254,
   "metadata": {},
   "outputs": [],
   "source": [
    "nn = NeuralNetwork(X_train, y_train)"
   ]
  },
  {
   "cell_type": "code",
   "execution_count": 255,
   "metadata": {},
   "outputs": [
    {
     "name": "stdout",
     "output_type": "stream",
     "text": [
      "Epoch [0]  Loss: 34699.812641679\n",
      "Epoch [10]  Loss: 4619.33222680925\n",
      "Epoch [20]  Loss: 2282.3145752433456\n",
      "Epoch [30]  Loss: 1349.6778794108427\n",
      "Epoch [40]  Loss: 931.0350225696692\n",
      "Epoch [50]  Loss: 694.320622224706\n",
      "Epoch [60]  Loss: 538.6482812253131\n",
      "Epoch [70]  Loss: 424.3292063699831\n",
      "Epoch [80]  Loss: 350.98272040591473\n",
      "Epoch [90]  Loss: 300.4702020922559\n",
      "Epoch [100]  Loss: 263.26420269605995\n",
      "Epoch [110]  Loss: 232.56992163550748\n",
      "Epoch [120]  Loss: 207.97200234089533\n",
      "Epoch [130]  Loss: 191.34538551147403\n",
      "Epoch [140]  Loss: 177.24975272813646\n",
      "Epoch [150]  Loss: 164.9093425566378\n",
      "Epoch [160]  Loss: 153.61204116731204\n",
      "Epoch [170]  Loss: 142.05342702455633\n",
      "Epoch [180]  Loss: 132.62009757439526\n",
      "Epoch [190]  Loss: 123.35918871775615\n"
     ]
    }
   ],
   "source": [
    "nn.train(learning_rate=0.001, epochs=200, batch_size=500)"
   ]
  },
  {
   "cell_type": "code",
   "execution_count": 256,
   "metadata": {},
   "outputs": [
    {
     "data": {
      "image/png": "[encoded data removed]",
      "text/plain": [
       "<Figure size 432x288 with 1 Axes>"
      ]
     },
     "metadata": {
      "needs_background": "light"
     },
     "output_type": "display_data"
    }
   ],
   "source": [
    "plt.figure()\n",
    "plt.plot(nn.losses)\n",
    "plt.show()"
   ]
  },
  {
   "cell_type": "code",
   "execution_count": 257,
   "metadata": {},
   "outputs": [
    {
     "data": {
      "text/plain": [
       "0.9363095238095238"
      ]
     },
     "execution_count": 257,
     "metadata": {},
     "output_type": "execute_result"
    }
   ],
   "source": [
    "preds = nn.predict(X_test)\n",
    "nn.accuracy(y_test, preds)"
   ]
  },
  {
   "cell_type": "markdown",
   "metadata": {},
   "source": [
    "## Fashion MNIST"
   ]
  },
  {
   "cell_type": "code",
   "execution_count": 260,
   "metadata": {},
   "outputs": [],
   "source": [
    "dataset = read_csv('../datasets/fashion-mnist.csv').values"
   ]
  },
  {
   "cell_type": "code",
   "execution_count": 261,
   "metadata": {},
   "outputs": [
    {
     "name": "stdout",
     "output_type": "stream",
     "text": [
      "(8000, 784) (2000, 784) (8000,) (2000,)\n"
     ]
    }
   ],
   "source": [
    "X_train, X_test, y_train, y_test = train_test_split(dataset[:, 1:], dataset[:, 0], test_size=0.2)\n",
    "X_train, X_test = X_train/255, X_test/255\n",
    "\n",
    "print(X_train.shape, X_test.shape, y_train.shape, y_test.shape)"
   ]
  },
  {
   "cell_type": "code",
   "execution_count": 266,
   "metadata": {},
   "outputs": [
    {
     "data": {
      "image/png": "[encoded data removed]",
      "text/plain": [
       "<Figure size 432x288 with 1 Axes>"
      ]
     },
     "metadata": {
      "needs_background": "light"
     },
     "output_type": "display_data"
    },
    {
     "name": "stdout",
     "output_type": "stream",
     "text": [
      "2\n"
     ]
    }
   ],
   "source": [
    "plt.figure()\n",
    "plt.imshow(X_train[0].reshape(28,28), cmap='gray')\n",
    "plt.show()\n",
    "print(y_train[0])"
   ]
  },
  {
   "cell_type": "code",
   "execution_count": 272,
   "metadata": {},
   "outputs": [],
   "source": [
    "nn = NeuralNetwork(X_train, y_train)"
   ]
  },
  {
   "cell_type": "code",
   "execution_count": 273,
   "metadata": {},
   "outputs": [
    {
     "name": "stdout",
     "output_type": "stream",
     "text": [
      "Epoch [0]  Loss: 6359.119452082961\n",
      "Epoch [10]  Loss: 2726.79549977552\n",
      "Epoch [20]  Loss: 1879.9330865300487\n",
      "Epoch [30]  Loss: 1389.229159258373\n",
      "Epoch [40]  Loss: 1011.7399580990066\n",
      "Epoch [50]  Loss: 765.4645900720676\n",
      "Epoch [60]  Loss: 568.0725871393469\n",
      "Epoch [70]  Loss: 425.10845351558385\n",
      "Epoch [80]  Loss: 337.8559860308497\n",
      "Epoch [90]  Loss: 269.4806873805734\n",
      "Epoch [100]  Loss: 215.96318747543523\n",
      "Epoch [110]  Loss: 181.74743755708312\n",
      "Epoch [120]  Loss: 159.8533728751231\n",
      "Epoch [130]  Loss: 145.38567417177882\n",
      "Epoch [140]  Loss: 136.13849900403144\n",
      "Epoch [150]  Loss: 129.68228389366823\n",
      "Epoch [160]  Loss: 125.10417793402347\n",
      "Epoch [170]  Loss: 121.75316679650379\n",
      "Epoch [180]  Loss: 119.22303475317257\n",
      "Epoch [190]  Loss: 117.26874581177265\n"
     ]
    }
   ],
   "source": [
    "nn.train(learning_rate=0.001, epochs=200, batch_size=100)"
   ]
  },
  {
   "cell_type": "code",
   "execution_count": 274,
   "metadata": {},
   "outputs": [
    {
     "data": {
      "image/png": "[encoded data removed]",
      "text/plain": [
       "<Figure size 432x288 with 1 Axes>"
      ]
     },
     "metadata": {
      "needs_background": "light"
     },
     "output_type": "display_data"
    }
   ],
   "source": [
    "plt.figure()\n",
    "plt.plot(nn.losses)\n",
    "plt.show()"
   ]
  },
  {
   "cell_type": "code",
   "execution_count": 275,
   "metadata": {},
   "outputs": [
    {
     "data": {
      "text/plain": [
       "0.8335"
      ]
     },
     "execution_count": 275,
     "metadata": {},
     "output_type": "execute_result"
    }
   ],
   "source": [
    "preds = nn.predict(X_test)\n",
    "nn.accuracy(y_test, preds)"
   ]
  },
  {
   "cell_type": "code",
   "execution_count": null,
   "metadata": {},
   "outputs": [],
   "source": []
  },
  {
   "cell_type": "code",
   "execution_count": null,
   "metadata": {},
   "outputs": [],
   "source": []
  },
  {
   "cell_type": "code",
   "execution_count": null,
   "metadata": {},
   "outputs": [],
   "source": []
  },
  {
   "cell_type": "code",
   "execution_count": null,
   "metadata": {},
   "outputs": [],
   "source": []
  },
  {
   "cell_type": "code",
   "execution_count": null,
   "metadata": {},
   "outputs": [],
   "source": []
  },
  {
   "cell_type": "code",
   "execution_count": null,
   "metadata": {},
   "outputs": [],
   "source": []
  },
  {
   "cell_type": "code",
   "execution_count": null,
   "metadata": {},
   "outputs": [],
   "source": []
  },
  {
   "cell_type": "code",
   "execution_count": null,
   "metadata": {},
   "outputs": [],
   "source": []
  },
  {
   "cell_type": "code",
   "execution_count": null,
   "metadata": {},
   "outputs": [],
   "source": []
  },
  {
   "cell_type": "code",
   "execution_count": null,
   "metadata": {},
   "outputs": [],
   "source": []
  },
  {
   "cell_type": "code",
   "execution_count": null,
   "metadata": {},
   "outputs": [],
   "source": []
  },
  {
   "cell_type": "code",
   "execution_count": null,
   "metadata": {},
   "outputs": [],
   "source": []
  }
 ],
 "metadata": {
  "kernelspec": {
   "display_name": "Python 3",
   "language": "python",
   "name": "python3"
  },
  "language_info": {
   "codemirror_mode": {
    "name": "ipython",
    "version": 3
   },
   "file_extension": ".py",
   "mimetype": "text/x-python",
   "name": "python",
   "nbconvert_exporter": "python",
   "pygments_lexer": "ipython3",
   "version": "3.7.0"
  }
 },
 "nbformat": 4,
 "nbformat_minor": 2
}
