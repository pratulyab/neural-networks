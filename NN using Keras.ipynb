{
 "cells": [
  {
   "cell_type": "code",
   "execution_count": 98,
   "metadata": {},
   "outputs": [],
   "source": [
    "import numpy as np\n",
    "import matplotlib.pyplot as plt\n",
    "\n",
    "import keras\n",
    "from keras.models import Sequential\n",
    "from keras.layers import Input, Dense, Activation\n",
    "from keras.utils import np_utils"
   ]
  },
  {
   "cell_type": "code",
   "execution_count": 3,
   "metadata": {},
   "outputs": [],
   "source": [
    "from pandas import read_csv\n",
    "from sklearn.model_selection import train_test_split\n",
    "dataset = read_csv('../datasets/mnist_data/train.csv').values"
   ]
  },
  {
   "cell_type": "code",
   "execution_count": 4,
   "metadata": {},
   "outputs": [
    {
     "name": "stdout",
     "output_type": "stream",
     "text": [
      "(33600, 784) (8400, 784) (33600,) (8400,)\n"
     ]
    }
   ],
   "source": [
    "X_train, X_test, y_train, y_test = train_test_split(dataset[:, 1:], dataset[:, 0], test_size=0.2)\n",
    "X_train, X_test = X_train/255, X_test/255\n",
    "\n",
    "print(X_train.shape, X_test.shape, y_train.shape, y_test.shape)"
   ]
  },
  {
   "cell_type": "code",
   "execution_count": 15,
   "metadata": {},
   "outputs": [],
   "source": [
    "y_train_one_hot = np_utils.to_categorical(y_train)"
   ]
  },
  {
   "cell_type": "code",
   "execution_count": 91,
   "metadata": {},
   "outputs": [
    {
     "name": "stdout",
     "output_type": "stream",
     "text": [
      "_________________________________________________________________\n",
      "Layer (type)                 Output Shape              Param #   \n",
      "=================================================================\n",
      "dense_40 (Dense)             (None, 256)               200960    \n",
      "_________________________________________________________________\n",
      "activation_27 (Activation)   (None, 256)               0         \n",
      "_________________________________________________________________\n",
      "dense_41 (Dense)             (None, 64)                16448     \n",
      "_________________________________________________________________\n",
      "dense_42 (Dense)             (None, 10)                650       \n",
      "_________________________________________________________________\n",
      "activation_28 (Activation)   (None, 10)                0         \n",
      "=================================================================\n",
      "Total params: 218,058\n",
      "Trainable params: 218,058\n",
      "Non-trainable params: 0\n",
      "_________________________________________________________________\n"
     ]
    }
   ],
   "source": [
    "model = Sequential()\n",
    "model.add(Dense(256, input_shape=(784,)))\n",
    "model.add(Activation('sigmoid'))\n",
    "model.add(Dense(64, activation='sigmoid'))\n",
    "model.add(Dense(10))\n",
    "model.add(Activation('softmax'))\n",
    "\n",
    "model.summary()\n",
    "model.compile(loss='categorical_crossentropy', optimizer='adagrad', metrics=['accuracy'])"
   ]
  },
  {
   "cell_type": "code",
   "execution_count": 96,
   "metadata": {},
   "outputs": [
    {
     "name": "stdout",
     "output_type": "stream",
     "text": [
      "Train on 33600 samples, validate on 8400 samples\n",
      "Epoch 1/20\n",
      "33600/33600 [==============================] - 1s 33us/step - loss: 0.0330 - acc: 0.9929 - val_loss: 0.1003 - val_acc: 0.9694\n",
      "Epoch 2/20\n",
      "33600/33600 [==============================] - 1s 33us/step - loss: 0.0326 - acc: 0.9931 - val_loss: 0.0999 - val_acc: 0.9693\n",
      "Epoch 3/20\n",
      "33600/33600 [==============================] - 1s 33us/step - loss: 0.0323 - acc: 0.9934 - val_loss: 0.1001 - val_acc: 0.9696\n",
      "Epoch 4/20\n",
      "33600/33600 [==============================] - 1s 33us/step - loss: 0.0320 - acc: 0.9934 - val_loss: 0.1000 - val_acc: 0.9700\n",
      "Epoch 5/20\n",
      "33600/33600 [==============================] - 1s 33us/step - loss: 0.0316 - acc: 0.9935 - val_loss: 0.0999 - val_acc: 0.9695\n",
      "Epoch 6/20\n",
      "33600/33600 [==============================] - 1s 33us/step - loss: 0.0314 - acc: 0.9936 - val_loss: 0.0998 - val_acc: 0.9693\n",
      "Epoch 7/20\n",
      "33600/33600 [==============================] - 1s 33us/step - loss: 0.0310 - acc: 0.9937 - val_loss: 0.0994 - val_acc: 0.9701\n",
      "Epoch 8/20\n",
      "33600/33600 [==============================] - 1s 34us/step - loss: 0.0307 - acc: 0.9936 - val_loss: 0.0995 - val_acc: 0.9698\n",
      "Epoch 9/20\n",
      "33600/33600 [==============================] - 1s 34us/step - loss: 0.0304 - acc: 0.9938 - val_loss: 0.0990 - val_acc: 0.9705\n",
      "Epoch 10/20\n",
      "33600/33600 [==============================] - 1s 34us/step - loss: 0.0302 - acc: 0.9940 - val_loss: 0.0989 - val_acc: 0.9700\n",
      "Epoch 11/20\n",
      "33600/33600 [==============================] - 1s 35us/step - loss: 0.0299 - acc: 0.9940 - val_loss: 0.0989 - val_acc: 0.9701\n",
      "Epoch 12/20\n",
      "33600/33600 [==============================] - 1s 43us/step - loss: 0.0296 - acc: 0.9941 - val_loss: 0.0988 - val_acc: 0.9701\n",
      "Epoch 13/20\n",
      "33600/33600 [==============================] - 1s 34us/step - loss: 0.0293 - acc: 0.9943 - val_loss: 0.0987 - val_acc: 0.9700\n",
      "Epoch 14/20\n",
      "33600/33600 [==============================] - 1s 34us/step - loss: 0.0290 - acc: 0.9945 - val_loss: 0.0983 - val_acc: 0.9707\n",
      "Epoch 15/20\n",
      "33600/33600 [==============================] - 1s 40us/step - loss: 0.0287 - acc: 0.9944 - val_loss: 0.0982 - val_acc: 0.9706\n",
      "Epoch 16/20\n",
      "33600/33600 [==============================] - 1s 39us/step - loss: 0.0285 - acc: 0.9948 - val_loss: 0.0984 - val_acc: 0.9706\n",
      "Epoch 17/20\n",
      "33600/33600 [==============================] - 1s 34us/step - loss: 0.0282 - acc: 0.9949 - val_loss: 0.0982 - val_acc: 0.9705\n",
      "Epoch 18/20\n",
      "33600/33600 [==============================] - 1s 33us/step - loss: 0.0279 - acc: 0.9946 - val_loss: 0.0978 - val_acc: 0.9706\n",
      "Epoch 19/20\n",
      "33600/33600 [==============================] - 1s 33us/step - loss: 0.0277 - acc: 0.9948 - val_loss: 0.0982 - val_acc: 0.9700\n",
      "Epoch 20/20\n",
      "33600/33600 [==============================] - 1s 39us/step - loss: 0.0274 - acc: 0.9950 - val_loss: 0.0979 - val_acc: 0.9700\n"
     ]
    }
   ],
   "source": [
    "hist = model.fit(X_train, y_train_one_hot, epochs=20, shuffle=True, batch_size=200, validation_data=(X_test, np_utils.to_categorical(y_test)))"
   ]
  },
  {
   "cell_type": "code",
   "execution_count": 93,
   "metadata": {},
   "outputs": [
    {
     "data": {
      "text/plain": [
       "dict_keys(['val_loss', 'val_acc', 'loss', 'acc'])"
      ]
     },
     "execution_count": 93,
     "metadata": {},
     "output_type": "execute_result"
    }
   ],
   "source": [
    "hist.history.keys()"
   ]
  },
  {
   "cell_type": "code",
   "execution_count": 97,
   "metadata": {},
   "outputs": [
    {
     "data": {
      "image/png": "[encoded data removed]",
      "text/plain": [
       "<Figure size 432x288 with 1 Axes>"
      ]
     },
     "metadata": {
      "needs_background": "light"
     },
     "output_type": "display_data"
    },
    {
     "data": {
      "image/png": "[encoded data removed]",
      "text/plain": [
       "<Figure size 432x288 with 1 Axes>"
      ]
     },
     "metadata": {
      "needs_background": "light"
     },
     "output_type": "display_data"
    }
   ],
   "source": [
    "plt.figure(0)\n",
    "plt.title(\"Loss\")\n",
    "plt.plot(hist.history['loss'], 'r', label='Training Loss')\n",
    "plt.plot(hist.history['val_loss'], 'b', label='Validation Loss')\n",
    "plt.legend()\n",
    "plt.show()\n",
    "\n",
    "plt.figure(1)\n",
    "plt.title(\"Accuracy\")\n",
    "plt.plot(hist.history['acc'], 'r', label='Training Accuracy')\n",
    "plt.plot(hist.history['val_acc'], 'b', label='Validation Accuracy')\n",
    "plt.legend()\n",
    "plt.show()"
   ]
  },
  {
   "cell_type": "code",
   "execution_count": 123,
   "metadata": {},
   "outputs": [],
   "source": [
    "# Functional API\n",
    "from keras.models import Model\n",
    "\n",
    "X = Input(shape=(784, ))\n",
    "fc1 = Dense(256, activation='relu')(X)\n",
    "fc2 = Dense(64, activation='relu')(fc1)\n",
    "yhat = Dense(10, activation='softmax')(fc2)\n",
    "\n",
    "fmodel = Model(inputs=X, outputs=yhat)"
   ]
  },
  {
   "cell_type": "code",
   "execution_count": 124,
   "metadata": {},
   "outputs": [
    {
     "name": "stdout",
     "output_type": "stream",
     "text": [
      "_________________________________________________________________\n",
      "Layer (type)                 Output Shape              Param #   \n",
      "=================================================================\n",
      "input_4 (InputLayer)         (None, 784)               0         \n",
      "_________________________________________________________________\n",
      "dense_52 (Dense)             (None, 256)               200960    \n",
      "_________________________________________________________________\n",
      "dense_53 (Dense)             (None, 64)                16448     \n",
      "_________________________________________________________________\n",
      "dense_54 (Dense)             (None, 10)                650       \n",
      "=================================================================\n",
      "Total params: 218,058\n",
      "Trainable params: 218,058\n",
      "Non-trainable params: 0\n",
      "_________________________________________________________________\n"
     ]
    }
   ],
   "source": [
    "fmodel.summary()\n",
    "fmodel.compile(loss='categorical_crossentropy', optimizer='adam', metrics=['accuracy'])\n"
   ]
  },
  {
   "cell_type": "code",
   "execution_count": 107,
   "metadata": {},
   "outputs": [],
   "source": [
    "from pandas import read_csv\n",
    "from sklearn.model_selection import train_test_split\n",
    "dataset = read_csv('../datasets/fashion-mnist.csv').values"
   ]
  },
  {
   "cell_type": "code",
   "execution_count": 110,
   "metadata": {},
   "outputs": [
    {
     "name": "stdout",
     "output_type": "stream",
     "text": [
      "(8000, 784) (2000, 784) (8000, 10) (2000, 10)\n"
     ]
    }
   ],
   "source": [
    "X_train, X_test, y_train, y_test = train_test_split(dataset[:, 1:], dataset[:, 0], test_size=0.2)\n",
    "X_train, X_test = X_train/255, X_test/255\n",
    "y_train, y_test = np_utils.to_categorical(y_train), np_utils.to_categorical(y_test)\n",
    "print(X_train.shape, X_test.shape, y_train.shape, y_test.shape)"
   ]
  },
  {
   "cell_type": "code",
   "execution_count": 125,
   "metadata": {},
   "outputs": [
    {
     "name": "stdout",
     "output_type": "stream",
     "text": [
      "Train on 8000 samples, validate on 2000 samples\n",
      "Epoch 1/20\n",
      "8000/8000 [==============================] - 0s 43us/step - loss: 0.8920 - acc: 0.7053 - val_loss: 0.5831 - val_acc: 0.8025\n",
      "Epoch 2/20\n",
      "8000/8000 [==============================] - 0s 42us/step - loss: 0.5233 - acc: 0.8166 - val_loss: 0.5308 - val_acc: 0.8200\n",
      "Epoch 3/20\n",
      "8000/8000 [==============================] - 0s 44us/step - loss: 0.4755 - acc: 0.8314 - val_loss: 0.4733 - val_acc: 0.8445\n",
      "Epoch 4/20\n",
      "8000/8000 [==============================] - 0s 44us/step - loss: 0.4194 - acc: 0.8548 - val_loss: 0.4949 - val_acc: 0.8350\n",
      "Epoch 5/20\n",
      "8000/8000 [==============================] - 0s 47us/step - loss: 0.4076 - acc: 0.8552 - val_loss: 0.4768 - val_acc: 0.8445\n",
      "Epoch 6/20\n",
      "8000/8000 [==============================] - 0s 43us/step - loss: 0.3841 - acc: 0.8646 - val_loss: 0.5307 - val_acc: 0.8140\n",
      "Epoch 7/20\n",
      "8000/8000 [==============================] - 0s 47us/step - loss: 0.3479 - acc: 0.8761 - val_loss: 0.4379 - val_acc: 0.8525\n",
      "Epoch 8/20\n",
      "8000/8000 [==============================] - 0s 43us/step - loss: 0.3235 - acc: 0.8828 - val_loss: 0.4632 - val_acc: 0.8430\n",
      "Epoch 9/20\n",
      "8000/8000 [==============================] - 0s 44us/step - loss: 0.3219 - acc: 0.8852 - val_loss: 0.4201 - val_acc: 0.8570\n",
      "Epoch 10/20\n",
      "8000/8000 [==============================] - 0s 43us/step - loss: 0.3074 - acc: 0.8880 - val_loss: 0.4348 - val_acc: 0.8525\n",
      "Epoch 11/20\n",
      "8000/8000 [==============================] - 0s 46us/step - loss: 0.2812 - acc: 0.8988 - val_loss: 0.4396 - val_acc: 0.8565\n",
      "Epoch 12/20\n",
      "8000/8000 [==============================] - 0s 55us/step - loss: 0.2628 - acc: 0.9027 - val_loss: 0.4008 - val_acc: 0.8710\n",
      "Epoch 13/20\n",
      "8000/8000 [==============================] - 0s 58us/step - loss: 0.2563 - acc: 0.9074 - val_loss: 0.4184 - val_acc: 0.8640\n",
      "Epoch 14/20\n",
      "8000/8000 [==============================] - 0s 59us/step - loss: 0.2469 - acc: 0.9129 - val_loss: 0.4393 - val_acc: 0.8580\n",
      "Epoch 15/20\n",
      "8000/8000 [==============================] - 0s 58us/step - loss: 0.2220 - acc: 0.9206 - val_loss: 0.4191 - val_acc: 0.8725\n",
      "Epoch 16/20\n",
      "8000/8000 [==============================] - 0s 54us/step - loss: 0.2111 - acc: 0.9263 - val_loss: 0.4400 - val_acc: 0.8575\n",
      "Epoch 17/20\n",
      "8000/8000 [==============================] - 0s 53us/step - loss: 0.2059 - acc: 0.9243 - val_loss: 0.4798 - val_acc: 0.8520\n",
      "Epoch 18/20\n",
      "8000/8000 [==============================] - 0s 53us/step - loss: 0.2028 - acc: 0.9267 - val_loss: 0.4625 - val_acc: 0.8520\n",
      "Epoch 19/20\n",
      "8000/8000 [==============================] - 0s 53us/step - loss: 0.1847 - acc: 0.9336 - val_loss: 0.4271 - val_acc: 0.8680\n",
      "Epoch 20/20\n",
      "8000/8000 [==============================] - 0s 53us/step - loss: 0.1765 - acc: 0.9356 - val_loss: 0.4804 - val_acc: 0.8580\n"
     ]
    }
   ],
   "source": [
    "hist = fmodel.fit( X_train, y_train, \n",
    "            shuffle=True,\n",
    "            epochs=20,\n",
    "            batch_size=128,\n",
    "            validation_data=(X_test, y_test)\n",
    "          )"
   ]
  },
  {
   "cell_type": "code",
   "execution_count": 126,
   "metadata": {},
   "outputs": [
    {
     "data": {
      "image/png": "[encoded data removed]",
      "text/plain": [
       "<Figure size 432x288 with 1 Axes>"
      ]
     },
     "metadata": {
      "needs_background": "light"
     },
     "output_type": "display_data"
    },
    {
     "data": {
      "image/png": "[encoded data removed]",
      "text/plain": [
       "<Figure size 432x288 with 1 Axes>"
      ]
     },
     "metadata": {
      "needs_background": "light"
     },
     "output_type": "display_data"
    }
   ],
   "source": [
    "plt.figure(0)\n",
    "plt.title(\"Loss\")\n",
    "plt.plot(hist.history['loss'], 'r', label='Training Loss')\n",
    "plt.plot(hist.history['val_loss'], 'b', label='Validation Loss')\n",
    "plt.legend()\n",
    "plt.show()\n",
    "\n",
    "plt.figure(1)\n",
    "plt.title(\"Accuracy\")\n",
    "plt.plot(hist.history['acc'], 'r', label='Training Accuracy')\n",
    "plt.plot(hist.history['val_acc'], 'b', label='Validation Accuracy')\n",
    "plt.legend()\n",
    "plt.show()"
   ]
  },
  {
   "cell_type": "code",
   "execution_count": 140,
   "metadata": {},
   "outputs": [],
   "source": [
    "fmodel.save('model.h5')\n",
    "fmodel.save('model_weights.h5')"
   ]
  },
  {
   "cell_type": "code",
   "execution_count": 141,
   "metadata": {},
   "outputs": [
    {
     "name": "stdout",
     "output_type": "stream",
     "text": [
      "_________________________________________________________________\n",
      "Layer (type)                 Output Shape              Param #   \n",
      "=================================================================\n",
      "input_4 (InputLayer)         (None, 784)               0         \n",
      "_________________________________________________________________\n",
      "dense_52 (Dense)             (None, 256)               200960    \n",
      "_________________________________________________________________\n",
      "dense_53 (Dense)             (None, 64)                16448     \n",
      "_________________________________________________________________\n",
      "dense_54 (Dense)             (None, 10)                650       \n",
      "=================================================================\n",
      "Total params: 218,058\n",
      "Trainable params: 218,058\n",
      "Non-trainable params: 0\n",
      "_________________________________________________________________\n"
     ]
    }
   ],
   "source": [
    "loaded = keras.models.load_model('model.h5')\n",
    "loaded.summary()"
   ]
  },
  {
   "cell_type": "code",
   "execution_count": 146,
   "metadata": {},
   "outputs": [
    {
     "data": {
      "text/plain": [
       "array([[2.6995486e-03, 2.5059909e-03, 3.0695725e-02, 1.8330006e-04,\n",
       "        1.5313342e-05, 8.3949661e-04, 9.6260107e-01, 1.2897275e-04,\n",
       "        3.2261258e-04, 7.9555875e-06]], dtype=float32)"
      ]
     },
     "execution_count": 146,
     "metadata": {},
     "output_type": "execute_result"
    }
   ],
   "source": []
  },
  {
   "cell_type": "code",
   "execution_count": 147,
   "metadata": {},
   "outputs": [],
   "source": []
  }
 ],
 "metadata": {
  "kernelspec": {
   "display_name": "Python 3",
   "language": "python",
   "name": "python3"
  },
  "language_info": {
   "codemirror_mode": {
    "name": "ipython",
    "version": 3
   },
   "file_extension": ".py",
   "mimetype": "text/x-python",
   "name": "python",
   "nbconvert_exporter": "python",
   "pygments_lexer": "ipython3",
   "version": "3.7.0"
  }
 },
 "nbformat": 4,
 "nbformat_minor": 2
}
